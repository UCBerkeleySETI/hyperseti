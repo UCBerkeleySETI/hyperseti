{
 "cells": [
  {
   "cell_type": "code",
   "execution_count": 1,
   "id": "opening-discovery",
   "metadata": {},
   "outputs": [
    {
     "name": "stderr",
     "output_type": "stream",
     "text": [
      "bshuf filter already loaded, skip it.\n"
     ]
    }
   ],
   "source": [
    "from hyperseti.data import from_fil, from_h5, DataArray\n",
    "\n",
    "filpath = '/home/dancpr/blimpy/tests/test_data/Voyager1.single_coarse.fine_res.fil'\n",
    "h5path = '/home/dancpr/blimpy/tests/test_data/Voyager1.single_coarse.fine_res.h5'\n",
    "d_fil = from_fil(filpath)\n",
    "d_h5  = from_h5(h5path)"
   ]
  },
  {
   "cell_type": "code",
   "execution_count": 2,
   "id": "reported-scholarship",
   "metadata": {},
   "outputs": [
    {
     "data": {
      "text/plain": [
       "\"<DataArray: shape=(16, 1, 1048576), dims=('time', 'feed_id', 'frequency')>\""
      ]
     },
     "execution_count": 2,
     "metadata": {},
     "output_type": "execute_result"
    }
   ],
   "source": [
    "str(d_h5)"
   ]
  },
  {
   "cell_type": "code",
   "execution_count": 4,
   "id": "posted-estate",
   "metadata": {},
   "outputs": [
    {
     "data": {
      "text/plain": [
       "(slice(0, 10, None), slice(None, None, None), slice(0, 4096, None))"
      ]
     },
     "execution_count": 4,
     "metadata": {},
     "output_type": "execute_result"
    }
   ],
   "source": [
    "d_arr = d_h5.isel({'frequency': slice(0, 4096), 'time': slice(0, 10)})\n",
    "d_arr.slice_info"
   ]
  },
  {
   "cell_type": "code",
   "execution_count": 8,
   "id": "honest-librarian",
   "metadata": {},
   "outputs": [
    {
     "data": {
      "text/plain": [
       "\"<DataArray: shape=(16, 1, 65536), dims=('time', 'feed_id', 'frequency')>\""
      ]
     },
     "execution_count": 8,
     "metadata": {},
     "output_type": "execute_result"
    }
   ],
   "source": [
    "ds = next(d_h5.iterate_through_data({'frequency': 2**16}))\n",
    "str(ds)"
   ]
  },
  {
   "cell_type": "code",
   "execution_count": 9,
   "id": "equal-insured",
   "metadata": {},
   "outputs": [
    {
     "name": "stdout",
     "output_type": "stream",
     "text": [
      "<DimensionScale 'frequency': start 8421.386717353016 MHz step -2.7939677238464355e-06 MHz nstep 65536 >\n",
      "<DimensionScale 'frequency': start 8421.203611884266 MHz step -2.7939677238464355e-06 MHz nstep 65536 >\n",
      "<DimensionScale 'frequency': start 8421.020506415516 MHz step -2.7939677238464355e-06 MHz nstep 65536 >\n",
      "<DimensionScale 'frequency': start 8420.837400946766 MHz step -2.7939677238464355e-06 MHz nstep 65536 >\n",
      "<DimensionScale 'frequency': start 8420.654295478016 MHz step -2.7939677238464355e-06 MHz nstep 65536 >\n",
      "<DimensionScale 'frequency': start 8420.471190009266 MHz step -2.7939677238464355e-06 MHz nstep 65536 >\n",
      "<DimensionScale 'frequency': start 8420.288084540516 MHz step -2.7939677238464355e-06 MHz nstep 65536 >\n",
      "<DimensionScale 'frequency': start 8420.104979071766 MHz step -2.7939677238464355e-06 MHz nstep 65536 >\n",
      "<DimensionScale 'frequency': start 8419.921873603016 MHz step -2.7939677238464355e-06 MHz nstep 65536 >\n",
      "<DimensionScale 'frequency': start 8419.738768134266 MHz step -2.7939677238464355e-06 MHz nstep 65536 >\n",
      "<DimensionScale 'frequency': start 8419.555662665516 MHz step -2.7939677238464355e-06 MHz nstep 65536 >\n",
      "<DimensionScale 'frequency': start 8419.372557196766 MHz step -2.7939677238464355e-06 MHz nstep 65536 >\n",
      "<DimensionScale 'frequency': start 8419.189451728016 MHz step -2.7939677238464355e-06 MHz nstep 65536 >\n",
      "<DimensionScale 'frequency': start 8419.006346259266 MHz step -2.7939677238464355e-06 MHz nstep 65536 >\n",
      "<DimensionScale 'frequency': start 8418.823240790516 MHz step -2.7939677238464355e-06 MHz nstep 65536 >\n",
      "<DimensionScale 'frequency': start 8418.640135321766 MHz step -2.7939677238464355e-06 MHz nstep 65536 >\n"
     ]
    }
   ],
   "source": [
    "for d_arr in d_h5.iterate_through_data({'frequency': 2**16}):\n",
    "    print(d_arr.scales['frequency'])"
   ]
  },
  {
   "cell_type": "code",
   "execution_count": 4,
   "id": "potential-contents",
   "metadata": {},
   "outputs": [],
   "source": [
    "import logbook\n",
    "import hyperseti\n",
    "hyperseti.logger_group.level = logbook.INFO\n",
    "hyperseti.data.logger.level  = logbook.DEBUG"
   ]
  },
  {
   "cell_type": "code",
   "execution_count": 14,
   "id": "headed-communist",
   "metadata": {},
   "outputs": [
    {
     "ename": "TypeError",
     "evalue": "'slice' object is not iterable",
     "output_type": "error",
     "traceback": [
      "\u001b[0;31m---------------------------------------------------------------------------\u001b[0m",
      "\u001b[0;31mTypeError\u001b[0m                                 Traceback (most recent call last)",
      "\u001b[0;32m<ipython-input-14-57686f6bf5e3>\u001b[0m in \u001b[0;36m<module>\u001b[0;34m\u001b[0m\n\u001b[1;32m      2\u001b[0m \u001b[0;34m\u001b[0m\u001b[0m\n\u001b[1;32m      3\u001b[0m \u001b[0mdd\u001b[0m \u001b[0;34m=\u001b[0m \u001b[0;34m[\u001b[0m\u001b[0mslice\u001b[0m\u001b[0;34m(\u001b[0m\u001b[0;36m0\u001b[0m\u001b[0;34m,\u001b[0m \u001b[0;36m524288\u001b[0m\u001b[0;34m,\u001b[0m \u001b[0;32mNone\u001b[0m\u001b[0;34m)\u001b[0m\u001b[0;34m]\u001b[0m\u001b[0;34m\u001b[0m\u001b[0;34m\u001b[0m\u001b[0m\n\u001b[0;32m----> 4\u001b[0;31m \u001b[0mlist\u001b[0m\u001b[0;34m(\u001b[0m\u001b[0mitertools\u001b[0m\u001b[0;34m.\u001b[0m\u001b[0mproduct\u001b[0m\u001b[0;34m(\u001b[0m\u001b[0;34m*\u001b[0m\u001b[0mdd\u001b[0m\u001b[0;34m)\u001b[0m\u001b[0;34m)\u001b[0m\u001b[0;34m\u001b[0m\u001b[0;34m\u001b[0m\u001b[0m\n\u001b[0m",
      "\u001b[0;31mTypeError\u001b[0m: 'slice' object is not iterable"
     ]
    }
   ],
   "source": [
    "import itertools\n",
    "\n",
    "dd = [slice(0, 524288, None)]\n",
    "list(itertools.product(*dd))"
   ]
  },
  {
   "cell_type": "code",
   "execution_count": 2,
   "id": "tutorial-blank",
   "metadata": {},
   "outputs": [
    {
     "name": "stdout",
     "output_type": "stream",
     "text": [
      "<DataArray: shape=(16, 1, 1048576), dims=('time', 'feed_id', 'frequency')>\n",
      "## TOTAL TIME: 3.57s ##\n",
      "\n",
      "\n"
     ]
    },
    {
     "data": {
      "text/html": [
       "<div>\n",
       "<style scoped>\n",
       "    .dataframe tbody tr th:only-of-type {\n",
       "        vertical-align: middle;\n",
       "    }\n",
       "\n",
       "    .dataframe tbody tr th {\n",
       "        vertical-align: top;\n",
       "    }\n",
       "\n",
       "    .dataframe thead th {\n",
       "        text-align: right;\n",
       "    }\n",
       "</style>\n",
       "<table border=\"1\" class=\"dataframe\">\n",
       "  <thead>\n",
       "    <tr style=\"text-align: right;\">\n",
       "      <th></th>\n",
       "      <th>driftrate</th>\n",
       "      <th>f_start</th>\n",
       "      <th>snr</th>\n",
       "      <th>driftrate_idx</th>\n",
       "      <th>channel_idx</th>\n",
       "      <th>boxcar_size</th>\n",
       "    </tr>\n",
       "  </thead>\n",
       "  <tbody>\n",
       "    <tr>\n",
       "      <th>0</th>\n",
       "      <td>0.009566</td>\n",
       "      <td>8419.921874</td>\n",
       "      <td>4093.418457</td>\n",
       "      <td>105.0</td>\n",
       "      <td>524288.0</td>\n",
       "      <td>1.0</td>\n",
       "    </tr>\n",
       "    <tr>\n",
       "      <th>27</th>\n",
       "      <td>0.401793</td>\n",
       "      <td>8419.921862</td>\n",
       "      <td>362.314087</td>\n",
       "      <td>146.0</td>\n",
       "      <td>524292.0</td>\n",
       "      <td>8.0</td>\n",
       "    </tr>\n",
       "    <tr>\n",
       "      <th>28</th>\n",
       "      <td>-0.564423</td>\n",
       "      <td>8419.921882</td>\n",
       "      <td>272.134552</td>\n",
       "      <td>45.0</td>\n",
       "      <td>524285.0</td>\n",
       "      <td>8.0</td>\n",
       "    </tr>\n",
       "    <tr>\n",
       "      <th>1</th>\n",
       "      <td>-0.459192</td>\n",
       "      <td>8419.921882</td>\n",
       "      <td>256.930725</td>\n",
       "      <td>56.0</td>\n",
       "      <td>524285.0</td>\n",
       "      <td>1.0</td>\n",
       "    </tr>\n",
       "    <tr>\n",
       "      <th>2</th>\n",
       "      <td>-0.736620</td>\n",
       "      <td>8419.921885</td>\n",
       "      <td>256.929291</td>\n",
       "      <td>27.0</td>\n",
       "      <td>524284.0</td>\n",
       "      <td>1.0</td>\n",
       "    </tr>\n",
       "    <tr>\n",
       "      <th>3</th>\n",
       "      <td>-0.248729</td>\n",
       "      <td>8419.921876</td>\n",
       "      <td>256.928314</td>\n",
       "      <td>78.0</td>\n",
       "      <td>524287.0</td>\n",
       "      <td>1.0</td>\n",
       "    </tr>\n",
       "    <tr>\n",
       "      <th>4</th>\n",
       "      <td>0.688787</td>\n",
       "      <td>8419.921862</td>\n",
       "      <td>256.927277</td>\n",
       "      <td>176.0</td>\n",
       "      <td>524292.0</td>\n",
       "      <td>1.0</td>\n",
       "    </tr>\n",
       "    <tr>\n",
       "      <th>7</th>\n",
       "      <td>-0.956649</td>\n",
       "      <td>8419.921890</td>\n",
       "      <td>256.907074</td>\n",
       "      <td>4.0</td>\n",
       "      <td>524282.0</td>\n",
       "      <td>1.0</td>\n",
       "    </tr>\n",
       "    <tr>\n",
       "      <th>8</th>\n",
       "      <td>0.975782</td>\n",
       "      <td>8419.921857</td>\n",
       "      <td>256.899231</td>\n",
       "      <td>206.0</td>\n",
       "      <td>524294.0</td>\n",
       "      <td>1.0</td>\n",
       "    </tr>\n",
       "    <tr>\n",
       "      <th>11</th>\n",
       "      <td>-0.822718</td>\n",
       "      <td>8419.921885</td>\n",
       "      <td>181.730331</td>\n",
       "      <td>18.0</td>\n",
       "      <td>524284.0</td>\n",
       "      <td>2.0</td>\n",
       "    </tr>\n",
       "    <tr>\n",
       "      <th>16</th>\n",
       "      <td>0.870551</td>\n",
       "      <td>8419.921857</td>\n",
       "      <td>181.701065</td>\n",
       "      <td>195.0</td>\n",
       "      <td>524294.0</td>\n",
       "      <td>2.0</td>\n",
       "    </tr>\n",
       "    <tr>\n",
       "      <th>18</th>\n",
       "      <td>-0.373093</td>\n",
       "      <td>8419.297025</td>\n",
       "      <td>28.792782</td>\n",
       "      <td>65.0</td>\n",
       "      <td>747930.0</td>\n",
       "      <td>2.0</td>\n",
       "    </tr>\n",
       "  </tbody>\n",
       "</table>\n",
       "</div>"
      ],
      "text/plain": [
       "    driftrate      f_start          snr  driftrate_idx  channel_idx  \\\n",
       "0    0.009566  8419.921874  4093.418457          105.0     524288.0   \n",
       "27   0.401793  8419.921862   362.314087          146.0     524292.0   \n",
       "28  -0.564423  8419.921882   272.134552           45.0     524285.0   \n",
       "1   -0.459192  8419.921882   256.930725           56.0     524285.0   \n",
       "2   -0.736620  8419.921885   256.929291           27.0     524284.0   \n",
       "3   -0.248729  8419.921876   256.928314           78.0     524287.0   \n",
       "4    0.688787  8419.921862   256.927277          176.0     524292.0   \n",
       "7   -0.956649  8419.921890   256.907074            4.0     524282.0   \n",
       "8    0.975782  8419.921857   256.899231          206.0     524294.0   \n",
       "11  -0.822718  8419.921885   181.730331           18.0     524284.0   \n",
       "16   0.870551  8419.921857   181.701065          195.0     524294.0   \n",
       "18  -0.373093  8419.297025    28.792782           65.0     747930.0   \n",
       "\n",
       "    boxcar_size  \n",
       "0           1.0  \n",
       "27          8.0  \n",
       "28          8.0  \n",
       "1           1.0  \n",
       "2           1.0  \n",
       "3           1.0  \n",
       "4           1.0  \n",
       "7           1.0  \n",
       "8           1.0  \n",
       "11          2.0  \n",
       "16          2.0  \n",
       "18          2.0  "
      ]
     },
     "execution_count": 2,
     "metadata": {},
     "output_type": "execute_result"
    }
   ],
   "source": [
    "from hyperseti.hyperseti import find_et_serial\n",
    "\n",
    "find_et_serial(h5path, gulp_size=2**20, \n",
    "               max_dd=1.0, min_dd=None, threshold=10, apply_normalization=True,\n",
    "               n_boxcar=4, merge_boxcar_trials=True, min_ddistance=10, min_fdistance=50)"
   ]
  },
  {
   "cell_type": "code",
   "execution_count": 5,
   "id": "nuclear-squad",
   "metadata": {},
   "outputs": [
    {
     "name": "stdout",
     "output_type": "stream",
     "text": [
      "<DataArray: shape=(16, 1, 524288), dims=('time', 'feed_id', 'frequency')>\n",
      "[2021-04-15 14:10:48.716876] INFO: hyperseti.hyperseti: Normalisation time: 0.74ms\n",
      "[2021-04-15 14:10:48.723980] INFO: hyperseti.hyperseti: --- Boxcar size: 1 ---\n",
      "[2021-04-15 14:10:48.728367] INFO: hyperseti.hyperseti: Dedopp setup time: 0.87ms\n",
      "[2021-04-15 14:10:48.732227] DEBUG: hyperseti.hyperseti: Kernel shape (grid, block)\n",
      "[2021-04-15 14:10:48.736060] INFO: hyperseti.hyperseti: Dedopp kernel time: 3.88ms\n",
      "[2021-04-15 14:10:48.738713] DEBUG: hyperseti.peak: Maxfilter: 1.91 ms\n",
      "[2021-04-15 14:10:48.739603] DEBUG: hyperseti.peak: bitbash: 0.29 ms\n",
      "[2021-04-15 14:10:49.114154] DEBUG: hyperseti.peak: coord search: 374.09 ms\n",
      "[2021-04-15 14:10:49.115377] DEBUG: hyperseti.peak: crazyloop: 0.79 ms\n",
      "[2021-04-15 14:10:49.115867] DEBUG: hyperseti.peak: prominent_peaks total: 1.29 ms\n",
      "[2021-04-15 14:10:49.116368] INFO: hyperseti.hyperseti: Peak find time: 379.58ms\n",
      "[2021-04-15 14:10:49.116876] INFO: hyperseti.hyperseti: Peak find memcopy: 0.01ms\n",
      "[2021-04-15 14:10:49.117347] INFO: hyperseti.hyperseti: --- Boxcar size: 2 ---\n",
      "[2021-04-15 14:10:49.118828] INFO: hyperseti.hyperseti: Filter time: 0.28ms\n",
      "[2021-04-15 14:10:49.119454] INFO: hyperseti.hyperseti: Dedopp setup time: 1.62ms\n",
      "[2021-04-15 14:10:49.119952] DEBUG: hyperseti.hyperseti: Kernel shape (grid, block)\n",
      "[2021-04-15 14:10:49.120505] INFO: hyperseti.hyperseti: Dedopp kernel time: 0.56ms\n",
      "[2021-04-15 14:10:49.121828] DEBUG: hyperseti.peak: Maxfilter: 0.27 ms\n",
      "[2021-04-15 14:10:49.122515] DEBUG: hyperseti.peak: bitbash: 0.25 ms\n",
      "[2021-04-15 14:10:49.368544] DEBUG: hyperseti.peak: coord search: 245.55 ms\n",
      "[2021-04-15 14:10:49.369795] DEBUG: hyperseti.peak: crazyloop: 0.73 ms\n",
      "[2021-04-15 14:10:49.370516] DEBUG: hyperseti.peak: prominent_peaks total: 1.45 ms\n",
      "[2021-04-15 14:10:49.371076] INFO: hyperseti.hyperseti: Peak find time: 249.53ms\n",
      "[2021-04-15 14:10:49.371584] INFO: hyperseti.hyperseti: Peak find memcopy: 0.01ms\n",
      "[2021-04-15 14:10:49.372279] INFO: hyperseti.hyperseti: --- Boxcar size: 4 ---\n",
      "[2021-04-15 14:10:49.373959] INFO: hyperseti.hyperseti: Filter time: 0.25ms\n",
      "[2021-04-15 14:10:49.374497] INFO: hyperseti.hyperseti: Dedopp setup time: 1.70ms\n",
      "[2021-04-15 14:10:49.375020] DEBUG: hyperseti.hyperseti: Kernel shape (grid, block)\n",
      "[2021-04-15 14:10:49.375785] INFO: hyperseti.hyperseti: Dedopp kernel time: 0.77ms\n",
      "[2021-04-15 14:10:49.377304] DEBUG: hyperseti.peak: Maxfilter: 0.25 ms\n",
      "[2021-04-15 14:10:49.378077] DEBUG: hyperseti.peak: bitbash: 0.27 ms\n",
      "[2021-04-15 14:10:49.623597] DEBUG: hyperseti.peak: coord search: 244.84 ms\n",
      "[2021-04-15 14:10:49.624766] DEBUG: hyperseti.peak: crazyloop: 0.74 ms\n",
      "[2021-04-15 14:10:49.625272] DEBUG: hyperseti.peak: prominent_peaks total: 1.25 ms\n",
      "[2021-04-15 14:10:49.625776] INFO: hyperseti.hyperseti: Peak find time: 248.73ms\n",
      "[2021-04-15 14:10:49.626251] INFO: hyperseti.hyperseti: Peak find memcopy: 0.01ms\n",
      "[2021-04-15 14:10:49.626725] INFO: hyperseti.hyperseti: --- Boxcar size: 8 ---\n",
      "[2021-04-15 14:10:49.628160] INFO: hyperseti.hyperseti: Filter time: 0.26ms\n",
      "[2021-04-15 14:10:49.628657] INFO: hyperseti.hyperseti: Dedopp setup time: 1.46ms\n",
      "[2021-04-15 14:10:49.629132] DEBUG: hyperseti.hyperseti: Kernel shape (grid, block)\n",
      "[2021-04-15 14:10:49.629652] INFO: hyperseti.hyperseti: Dedopp kernel time: 0.53ms\n",
      "[2021-04-15 14:10:49.630939] DEBUG: hyperseti.peak: Maxfilter: 0.24 ms\n",
      "[2021-04-15 14:10:49.631665] DEBUG: hyperseti.peak: bitbash: 0.27 ms\n",
      "[2021-04-15 14:10:49.878416] DEBUG: hyperseti.peak: coord search: 246.29 ms\n",
      "[2021-04-15 14:10:49.879583] DEBUG: hyperseti.peak: crazyloop: 0.71 ms\n",
      "[2021-04-15 14:10:49.880091] DEBUG: hyperseti.peak: prominent_peaks total: 1.24 ms\n",
      "[2021-04-15 14:10:49.880634] INFO: hyperseti.hyperseti: Peak find time: 249.95ms\n",
      "[2021-04-15 14:10:49.881118] INFO: hyperseti.hyperseti: Peak find memcopy: 0.01ms\n",
      "[2021-04-15 14:10:49.882338] INFO: hyperseti.hyperseti: Hit merging time: 0.73ms\n",
      "[2021-04-15 14:10:49.883178] INFO: hyperseti.hyperseti: Pipeline runtime: 1.34s\n",
      "<DataArray: shape=(16, 1, 524288), dims=('time', 'feed_id', 'frequency')>\n",
      "[2021-04-15 14:10:50.499230] INFO: hyperseti.hyperseti: Normalisation time: 0.49ms\n",
      "[2021-04-15 14:10:50.503176] INFO: hyperseti.hyperseti: --- Boxcar size: 1 ---\n",
      "[2021-04-15 14:10:50.506800] INFO: hyperseti.hyperseti: Dedopp setup time: 0.40ms\n",
      "[2021-04-15 14:10:50.509433] DEBUG: hyperseti.hyperseti: Kernel shape (grid, block)\n",
      "[2021-04-15 14:10:50.512066] INFO: hyperseti.hyperseti: Dedopp kernel time: 2.67ms\n",
      "[2021-04-15 14:10:50.516433] DEBUG: hyperseti.peak: Maxfilter: 1.55 ms\n",
      "[2021-04-15 14:10:50.519175] DEBUG: hyperseti.peak: bitbash: 0.14 ms\n",
      "[2021-04-15 14:10:50.883566] DEBUG: hyperseti.peak: coord search: 361.78 ms\n",
      "[2021-04-15 14:10:50.897031] DEBUG: hyperseti.peak: crazyloop: 13.00 ms\n",
      "[2021-04-15 14:10:50.897494] DEBUG: hyperseti.peak: prominent_peaks total: 13.47 ms\n",
      "[2021-04-15 14:10:50.898017] INFO: hyperseti.hyperseti: Peak find time: 383.15ms\n",
      "[2021-04-15 14:10:50.898966] INFO: hyperseti.hyperseti: Peak find memcopy: 0.44ms\n",
      "[2021-04-15 14:10:50.899592] DEBUG: hyperseti.hyperseti: 8419.921873603016 MHz, -2.7939677238464355e-06 MHz, [     0      3      6      1      4 524286     74     55]\n",
      "[2021-04-15 14:10:50.963716] INFO: hyperseti.hyperseti: --- Boxcar size: 2 ---\n",
      "[2021-04-15 14:10:50.964949] INFO: hyperseti.hyperseti: Filter time: 0.29ms\n",
      "[2021-04-15 14:10:50.965520] INFO: hyperseti.hyperseti: Dedopp setup time: 1.30ms\n",
      "[2021-04-15 14:10:50.966033] DEBUG: hyperseti.hyperseti: Kernel shape (grid, block)\n",
      "[2021-04-15 14:10:50.966625] INFO: hyperseti.hyperseti: Dedopp kernel time: 0.60ms\n",
      "[2021-04-15 14:10:50.968011] DEBUG: hyperseti.peak: Maxfilter: 0.29 ms\n",
      "[2021-04-15 14:10:50.968740] DEBUG: hyperseti.peak: bitbash: 0.29 ms\n",
      "[2021-04-15 14:10:51.214797] DEBUG: hyperseti.peak: coord search: 245.33 ms\n",
      "[2021-04-15 14:10:51.236453] DEBUG: hyperseti.peak: crazyloop: 21.18 ms\n",
      "[2021-04-15 14:10:51.237359] DEBUG: hyperseti.peak: prominent_peaks total: 22.12 ms\n",
      "[2021-04-15 14:10:51.238103] INFO: hyperseti.hyperseti: Peak find time: 270.37ms\n",
      "[2021-04-15 14:10:51.239405] INFO: hyperseti.hyperseti: Peak find memcopy: 0.63ms\n",
      "[2021-04-15 14:10:51.240202] DEBUG: hyperseti.hyperseti: 8419.921873603016 MHz, -2.7939677238464355e-06 MHz, [ 0  4  5  6 79  0  1  1  1]\n",
      "[2021-04-15 14:10:51.243366] INFO: hyperseti.hyperseti: --- Boxcar size: 4 ---\n",
      "[2021-04-15 14:10:51.245098] INFO: hyperseti.hyperseti: Filter time: 0.77ms\n",
      "[2021-04-15 14:10:51.245678] INFO: hyperseti.hyperseti: Dedopp setup time: 1.62ms\n",
      "[2021-04-15 14:10:51.246305] DEBUG: hyperseti.hyperseti: Kernel shape (grid, block)\n",
      "[2021-04-15 14:10:51.247409] INFO: hyperseti.hyperseti: Dedopp kernel time: 1.12ms\n",
      "[2021-04-15 14:10:51.248535] DEBUG: hyperseti.peak: Maxfilter: 0.23 ms\n",
      "[2021-04-15 14:10:51.249447] DEBUG: hyperseti.peak: bitbash: 0.31 ms\n",
      "[2021-04-15 14:10:51.495005] DEBUG: hyperseti.peak: coord search: 245.04 ms\n",
      "[2021-04-15 14:10:51.511608] DEBUG: hyperseti.peak: crazyloop: 15.82 ms\n",
      "[2021-04-15 14:10:51.512117] DEBUG: hyperseti.peak: prominent_peaks total: 16.34 ms\n",
      "[2021-04-15 14:10:51.512746] INFO: hyperseti.hyperseti: Peak find time: 264.46ms\n",
      "[2021-04-15 14:10:51.513886] INFO: hyperseti.hyperseti: Peak find memcopy: 0.52ms\n",
      "[2021-04-15 14:10:51.514546] DEBUG: hyperseti.hyperseti: 8419.921873603016 MHz, -2.7939677238464355e-06 MHz, [     1 524285 524284 524284     75     64      1      1      1]\n",
      "[2021-04-15 14:10:51.517726] INFO: hyperseti.hyperseti: --- Boxcar size: 8 ---\n",
      "[2021-04-15 14:10:51.519495] INFO: hyperseti.hyperseti: Filter time: 0.22ms\n",
      "[2021-04-15 14:10:51.520080] INFO: hyperseti.hyperseti: Dedopp setup time: 1.49ms\n",
      "[2021-04-15 14:10:51.520670] DEBUG: hyperseti.hyperseti: Kernel shape (grid, block)\n",
      "[2021-04-15 14:10:51.521271] INFO: hyperseti.hyperseti: Dedopp kernel time: 0.62ms\n",
      "[2021-04-15 14:10:51.522718] DEBUG: hyperseti.peak: Maxfilter: 0.71 ms\n",
      "[2021-04-15 14:10:51.523509] DEBUG: hyperseti.peak: bitbash: 0.29 ms\n",
      "[2021-04-15 14:10:51.770245] DEBUG: hyperseti.peak: coord search: 246.26 ms\n",
      "[2021-04-15 14:10:51.782587] DEBUG: hyperseti.peak: crazyloop: 11.83 ms\n",
      "[2021-04-15 14:10:51.783051] DEBUG: hyperseti.peak: prominent_peaks total: 12.30 ms\n",
      "[2021-04-15 14:10:51.783607] INFO: hyperseti.hyperseti: Peak find time: 261.60ms\n",
      "[2021-04-15 14:10:51.784682] INFO: hyperseti.hyperseti: Peak find memcopy: 0.52ms\n",
      "[2021-04-15 14:10:51.785282] DEBUG: hyperseti.hyperseti: 8419.921873603016 MHz, -2.7939677238464355e-06 MHz, [     3     48 524266 524284     82      1      2]\n",
      "[2021-04-15 14:10:51.920025] INFO: hyperseti.hyperseti: Hit merging time: 132.10ms\n",
      "[2021-04-15 14:10:51.922239] INFO: hyperseti.hyperseti: Pipeline runtime: 1.50s\n"
     ]
    }
   ],
   "source": [
    "from hyperseti import run_pipeline\n",
    "\n",
    "def find_et_serial(filename, filename_out='hits.csv', gulp_size=2**19, *args, **kwargs):\n",
    "    ds = from_h5(filename)\n",
    "    out = []\n",
    "    for d_arr in ds.iterate_through_data({'frequency': gulp_size}):\n",
    "        print(d_arr)\n",
    "        d = d_arr.data\n",
    "        f = d_arr.frequency\n",
    "        t = d_arr.time\n",
    "        md = {'fch1': f.val_start * f.units, 'df': f.val_step * f.units, 'dt': t.val_step * t.units}\n",
    "        dedopp, metadata, hits = run_pipeline(d, md, *args, **kwargs)\n",
    "        out.append(hits)\n",
    "    \n",
    "    dframe = pd.concat(out)\n",
    "    dframe.to_csv(filename_out)\n",
    "    \n",
    "find_et_serial(h5path, max_dd=1.0, min_dd=None, threshold=100, apply_normalization=True,\n",
    "                n_boxcar=4, merge_boxcar_trials=True, min_ddistance=10, min_fdistance=50)"
   ]
  },
  {
   "cell_type": "code",
   "execution_count": 6,
   "id": "tight-combine",
   "metadata": {},
   "outputs": [
    {
     "ename": "NameError",
     "evalue": "name 'md' is not defined",
     "output_type": "error",
     "traceback": [
      "\u001b[0;31m---------------------------------------------------------------------------\u001b[0m",
      "\u001b[0;31mNameError\u001b[0m                                 Traceback (most recent call last)",
      "\u001b[0;32m<ipython-input-6-5003f0045998>\u001b[0m in \u001b[0;36m<module>\u001b[0;34m\u001b[0m\n\u001b[0;32m----> 1\u001b[0;31m \u001b[0mmd\u001b[0m\u001b[0;34m\u001b[0m\u001b[0;34m\u001b[0m\u001b[0m\n\u001b[0m",
      "\u001b[0;31mNameError\u001b[0m: name 'md' is not defined"
     ]
    }
   ],
   "source": [
    "md"
   ]
  },
  {
   "cell_type": "code",
   "execution_count": 90,
   "id": "computational-murray",
   "metadata": {},
   "outputs": [
    {
     "data": {
      "text/plain": [
       "<hyperseti.data.DataArray at 0x7f693026ff50>"
      ]
     },
     "execution_count": 90,
     "metadata": {},
     "output_type": "execute_result"
    }
   ],
   "source": [
    "d_sel"
   ]
  },
  {
   "cell_type": "code",
   "execution_count": 69,
   "id": "charitable-frame",
   "metadata": {},
   "outputs": [
    {
     "name": "stdout",
     "output_type": "stream",
     "text": [
      "0 time\n",
      "1 feed_id\n",
      "2 frequency\n"
     ]
    },
    {
     "data": {
      "text/plain": [
       "array([[4.7153664e+09, 5.0594243e+09, 5.2598994e+09, ..., 7.0528737e+09,\n",
       "        4.8982861e+09, 5.1767214e+09],\n",
       "       [4.0829606e+09, 5.7968077e+09, 6.0981827e+09, ..., 5.3419612e+09,\n",
       "        4.4250788e+09, 5.7763446e+09],\n",
       "       [6.0969042e+09, 4.5643085e+09, 4.8825871e+09, ..., 6.4770673e+09,\n",
       "        5.0938399e+09, 5.0533325e+09],\n",
       "       ...,\n",
       "       [6.8482652e+09, 6.1711964e+09, 5.6285025e+09, ..., 5.5310628e+09,\n",
       "        4.9069640e+09, 4.9941002e+09],\n",
       "       [4.6555986e+09, 5.2430843e+09, 6.4172022e+09, ..., 5.0930427e+09,\n",
       "        6.4045742e+09, 5.0717896e+09],\n",
       "       [5.9711662e+09, 5.4580777e+09, 5.8471752e+09, ..., 5.6470390e+09,\n",
       "        5.6385306e+09, 6.9158154e+09]], dtype=float32)"
      ]
     },
     "execution_count": 69,
     "metadata": {},
     "output_type": "execute_result"
    }
   ],
   "source": [
    "d_h5.data[isel(d_h5, s)]"
   ]
  },
  {
   "cell_type": "code",
   "execution_count": null,
   "id": "advance-exhibition",
   "metadata": {},
   "outputs": [],
   "source": []
  }
 ],
 "metadata": {
  "kernelspec": {
   "display_name": "Python 3",
   "language": "python",
   "name": "python3"
  },
  "language_info": {
   "codemirror_mode": {
    "name": "ipython",
    "version": 3
   },
   "file_extension": ".py",
   "mimetype": "text/x-python",
   "name": "python",
   "nbconvert_exporter": "python",
   "pygments_lexer": "ipython3",
   "version": "3.7.6"
  }
 },
 "nbformat": 4,
 "nbformat_minor": 5
}
